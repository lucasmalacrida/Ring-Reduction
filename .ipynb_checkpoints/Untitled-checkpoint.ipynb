{
 "cells": [
  {
   "cell_type": "code",
   "execution_count": 41,
   "metadata": {},
   "outputs": [
    {
     "name": "stdout",
     "output_type": "stream",
     "text": [
      "Program that reduces a ring of N numbers in [0,1] to a single number.\n",
      "\n",
      "Input the number 'N' of elements on the ring:10\n",
      "\n",
      "[0.25035444774535, 0.3861689014936663, 0.7789972858768895, 0.2520389697789472, 0.5413325516510439, 0.6845072377273148, 0.3733531132331659, 0.168134207455509, 0.178767032816856, 0.882541631681946]\n"
     ]
    },
    {
     "ename": "IndexError",
     "evalue": "list index out of range",
     "output_type": "error",
     "traceback": [
      "\u001b[0;31m---------------------------------------------------------------------------\u001b[0m",
      "\u001b[0;31mIndexError\u001b[0m                                Traceback (most recent call last)",
      "\u001b[0;32m<ipython-input-41-58e31d965610>\u001b[0m in \u001b[0;36m<module>\u001b[0;34m\u001b[0m\n\u001b[1;32m     56\u001b[0m         \u001b[0marray\u001b[0m \u001b[0;34m=\u001b[0m \u001b[0marray\u001b[0m\u001b[0;34m[\u001b[0m\u001b[0;36m1\u001b[0m \u001b[0;34m:\u001b[0m \u001b[0mlen\u001b[0m\u001b[0;34m(\u001b[0m\u001b[0marray\u001b[0m\u001b[0;34m)\u001b[0m\u001b[0;34m-\u001b[0m\u001b[0;36m1\u001b[0m\u001b[0;34m]\u001b[0m\u001b[0;34m\u001b[0m\u001b[0;34m\u001b[0m\u001b[0m\n\u001b[1;32m     57\u001b[0m     \u001b[0;32melse\u001b[0m\u001b[0;34m:\u001b[0m\u001b[0;34m\u001b[0m\u001b[0;34m\u001b[0m\u001b[0m\n\u001b[0;32m---> 58\u001b[0;31m         \u001b[0marray\u001b[0m\u001b[0;34m[\u001b[0m\u001b[0mi\u001b[0m\u001b[0;34m-\u001b[0m\u001b[0;36m1\u001b[0m\u001b[0;34m]\u001b[0m \u001b[0;34m=\u001b[0m \u001b[0marray\u001b[0m\u001b[0;34m[\u001b[0m\u001b[0mi\u001b[0m\u001b[0;34m-\u001b[0m\u001b[0;36m1\u001b[0m\u001b[0;34m]\u001b[0m\u001b[0;34m*\u001b[0m\u001b[0marray\u001b[0m\u001b[0;34m[\u001b[0m\u001b[0mi\u001b[0m\u001b[0;34m+\u001b[0m\u001b[0;36m1\u001b[0m\u001b[0;34m]\u001b[0m\u001b[0;34m/\u001b[0m\u001b[0marray\u001b[0m\u001b[0;34m[\u001b[0m\u001b[0mi\u001b[0m\u001b[0;34m]\u001b[0m\u001b[0;34m\u001b[0m\u001b[0;34m\u001b[0m\u001b[0m\n\u001b[0m\u001b[1;32m     59\u001b[0m         \u001b[0marray\u001b[0m \u001b[0;34m=\u001b[0m \u001b[0marray\u001b[0m\u001b[0;34m[\u001b[0m\u001b[0;36m0\u001b[0m \u001b[0;34m:\u001b[0m \u001b[0mi\u001b[0m\u001b[0;34m]\u001b[0m \u001b[0;34m+\u001b[0m \u001b[0marray\u001b[0m\u001b[0;34m[\u001b[0m\u001b[0mi\u001b[0m\u001b[0;34m+\u001b[0m\u001b[0;36m2\u001b[0m \u001b[0;34m:\u001b[0m \u001b[0mlen\u001b[0m\u001b[0;34m(\u001b[0m\u001b[0marray\u001b[0m\u001b[0;34m)\u001b[0m\u001b[0;34m]\u001b[0m\u001b[0;34m\u001b[0m\u001b[0;34m\u001b[0m\u001b[0m\n\u001b[1;32m     60\u001b[0m \u001b[0;34m\u001b[0m\u001b[0m\n",
      "\u001b[0;31mIndexError\u001b[0m: list index out of range"
     ]
    }
   ],
   "source": [
    "import math\n",
    "\n",
    "print(\"Program that reduces a ring of N numbers in [0,1] to a single number.\")\n",
    "print(\"\")\n",
    "\n",
    "N = int(input(\"Input the number 'N' of elements on the ring:\"))\n",
    "print(\"\")\n",
    "\n",
    "#GENERATOR OF RANDOM NUMBERS IN [0,1] (by Lucas M):----------------------------------------------------------------\n",
    "#----------------------------------------------------------------------------------------------------------\n",
    "\n",
    "import numpy as np\n",
    "from datetime import datetime as dt\n",
    "import matplotlib.pyplot as plt\n",
    "\n",
    "def genNumbers(N):\n",
    "    x = [0 for i in range(N)]\n",
    "    integer = [0 for i in range(16*N)]\n",
    "\n",
    "    date = str(dt.now())\n",
    "    integer[0] = int(date[-6]+date[-5]+date[-4]+date[-3]+date[-2]+date[-1])\n",
    "\n",
    "    a = 12435768911877\n",
    "    b = 2468135793161\n",
    "    c = 326159487919431\n",
    "\n",
    "    for i in range(16*N-1):\n",
    "        integer[i+1] = (a*integer[i] + b) % (c)\n",
    "\n",
    "    for i in range(16*N):\n",
    "        integer[i] = int(str(integer[i])[-1])\n",
    "\n",
    "    for n in range(N):\n",
    "        str_num = '0.'\n",
    "        for i in range(16):\n",
    "            integer[16*n+i] = str(integer[16*n+i])[-1]\n",
    "            str_num = str_num + integer[16*n+i]\n",
    "        num = float(str_num)\n",
    "        x[n] = num\n",
    "        \n",
    "    return x\n",
    "\n",
    "#Finally, we have the list \"x\", which gives \"N\" random numbers in [0,1].-----------------------------------------\n",
    "#--------------------------------------------------------------------------------------------------------------\n",
    "\n",
    "array = genNumbers(N)\n",
    "print(array)\n",
    "\n",
    "while (len(array)!=1):\n",
    "    i = array.index(max(array))\n",
    "    if (i==0):\n",
    "        array[1] = array[-1]*array[1]/array[0]\n",
    "        array = array[1 : len(array)-1]\n",
    "    elif (i==max(array)-1):\n",
    "        array[-2] = array[-2]*array[0]/array[-1]\n",
    "        array = array[1 : len(array)-1]\n",
    "    elif (i==max(array)-2):\n",
    "        array[-3] = array[-3]*array[-1]/array[-2]\n",
    "        array = array[0 : len(array)-2]\n",
    "    else:\n",
    "        array[i-1] = array[i-1]*array[i+1]/array[i]\n",
    "        array = array[0 : i] + array[i+2 : len(array)]\n",
    "        \n",
    "print(array)"
   ]
  },
  {
   "cell_type": "code",
   "execution_count": 16,
   "metadata": {},
   "outputs": [
    {
     "data": {
      "text/plain": [
       "[2, 0, 0, 0]"
      ]
     },
     "execution_count": 16,
     "metadata": {},
     "output_type": "execute_result"
    }
   ],
   "source": [
    "a = [0,0,4,5,6,7,1,2,0,0,0]\n",
    "b = a[0:4]\n",
    "c = a[6+1:len(a)]\n",
    "c"
   ]
  },
  {
   "cell_type": "code",
   "execution_count": 38,
   "metadata": {},
   "outputs": [
    {
     "name": "stdout",
     "output_type": "stream",
     "text": [
      "[1, 2, 3, 4, 5, 4, 3, 2, 1]\n",
      "[0.703125]\n"
     ]
    }
   ],
   "source": [
    "array = [1,2,3,4,5,4,3,2,1]\n",
    "print(array)\n",
    "\n",
    "while (len(array)!=1):\n",
    "    i = array.index(max(array))\n",
    "    if (i==0):\n",
    "        array[1] = array[-1]*array[1]/array[0]\n",
    "        array = array[1 : len(array)-1]\n",
    "    elif (i==-1):\n",
    "        array[-2] = array[-2]*array[0]/array[-1]\n",
    "        array = array[1 : len(array)-1]\n",
    "    else:\n",
    "        array[i-1] = array[i-1]*array[i+1]/array[i]\n",
    "        array = array[0 : i] + array[i+2 : len(array)]\n",
    "\n",
    "print(array)"
   ]
  },
  {
   "cell_type": "code",
   "execution_count": 33,
   "metadata": {},
   "outputs": [
    {
     "name": "stdout",
     "output_type": "stream",
     "text": [
      "[6.0, 1, 1, 1, 1, 1, 1, 1]\n"
     ]
    }
   ],
   "source": [
    "array = [1 for i in range(10)]\n",
    "array[-1] = 4\n",
    "array[0] = 2\n",
    "array[1] = 3\n",
    "\n",
    "array[0] = array[-1]*array[1]/array[0]\n",
    "array = array[0:1] + array[2 : len(array)-1]\n",
    "print(array)"
   ]
  },
  {
   "cell_type": "code",
   "execution_count": 35,
   "metadata": {},
   "outputs": [
    {
     "data": {
      "text/plain": [
       "[6.0, 1, 1, 1, 1, 1, 1, 1]"
      ]
     },
     "execution_count": 35,
     "metadata": {},
     "output_type": "execute_result"
    }
   ],
   "source": [
    "array[0:0] + array"
   ]
  }
 ],
 "metadata": {
  "kernelspec": {
   "display_name": "Python 3",
   "language": "python",
   "name": "python3"
  },
  "language_info": {
   "codemirror_mode": {
    "name": "ipython",
    "version": 3
   },
   "file_extension": ".py",
   "mimetype": "text/x-python",
   "name": "python",
   "nbconvert_exporter": "python",
   "pygments_lexer": "ipython3",
   "version": "3.8.10"
  }
 },
 "nbformat": 4,
 "nbformat_minor": 4
}
